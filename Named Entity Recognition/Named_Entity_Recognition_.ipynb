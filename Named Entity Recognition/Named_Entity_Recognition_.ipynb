{
  "cells": [
    {
      "cell_type": "markdown",
      "metadata": {
        "id": "view-in-github",
        "colab_type": "text"
      },
      "source": [
        "<a href=\"https://colab.research.google.com/github/Alfred9/Natural-Language-Processing-Projects/blob/main/Named%20Entity%20Recognition/Named_Entity_Recognition_.ipynb\" target=\"_parent\"><img src=\"https://colab.research.google.com/assets/colab-badge.svg\" alt=\"Open In Colab\"/></a>"
      ]
    },
    {
      "cell_type": "markdown",
      "source": [
        "## Named Entity Recognition (NER)\n",
        "Named Entity Recognition (NER) is a sub-task of information extraction in Natural Language Processing (NLP) that classifies named entities into predefined categories such as person names, organizations, locations, medical codes, time expressions, quantities, monetary values, and more"
      ],
      "metadata": {
        "id": "hk0-x82huyIe"
      }
    },
    {
      "cell_type": "markdown",
      "source": [],
      "metadata": {
        "id": "gbf7xhPP2MfO"
      }
    },
    {
      "cell_type": "code",
      "source": [
        "!pip install gliner\n",
        "!pip install -q gradio"
      ],
      "metadata": {
        "id": "-5zh8JH2lJy9"
      },
      "execution_count": null,
      "outputs": []
    },
    {
      "cell_type": "markdown",
      "source": [
        "### Load the Model\n",
        "GLiNER is a Named Entity Recognition (NER) model capable of identifying any entity type using a bidirectional transformer encoder (BERT-like). It provides a practical alternative to traditional NER models, which are limited to predefined entities, and Large Language Models (LLMs) that, despite their flexibility, are costly and large for resource-constrained scenarios."
      ],
      "metadata": {
        "id": "wVaiKYBE0Ig5"
      }
    },
    {
      "cell_type": "code",
      "source": [
        "from gliner import GLiNER\n",
        "\n",
        "model = GLiNER.from_pretrained(\"urchade/gliner_base\")"
      ],
      "metadata": {
        "id": "E8z8-dmr0Agx"
      },
      "execution_count": null,
      "outputs": []
    },
    {
      "cell_type": "markdown",
      "source": [
        "### Business Application"
      ],
      "metadata": {
        "id": "50Kieboxyt2p"
      }
    },
    {
      "cell_type": "code",
      "source": [
        "from gliner import GLiNER\n",
        "\n",
        "Bns_text=\"\"\"NVDA could still be worth up to 26% more at $1,141 per share. This valuation is based on its massive FCF margins. Existing shareholders can gain extra income by shorting out-of-the-money (OTM) put options in nearby expiry periods.\n",
        "            That will help wait for NVDA stock to reach this price target.Nvidia stock closed up 1% on Tuesday after CEO Jensen Huang said in an analyst meeting that the company expects to increase its share of the $250 billion data center market.\n",
        "            Huang’s comments were made a day after Nvidia announced its latest generation of artificial intelligence chips, called Blackwell, and a new AI software platform.\"\"\"\n",
        "\n",
        "Bns_labels =['Company_name','Stock_symbol','Revenue','Profit_margin','Market_capitalization','CEO_name','Merger_acquisition','Earnings_report','Dividend_yield','Share_price']\n",
        "\n",
        "entities = model.predict_entities(Bns_text, Bns_labels, threshold=0.5)\n",
        "\n",
        "for entity in entities:\n",
        "    print(entity[\"text\"], \"=>\", entity[\"label\"])"
      ],
      "metadata": {
        "colab": {
          "base_uri": "https://localhost:8080/"
        },
        "id": "jOX6ODoWxXHi",
        "outputId": "73129c8c-99cd-42ed-931b-ce065873a698"
      },
      "execution_count": 3,
      "outputs": [
        {
          "output_type": "stream",
          "name": "stdout",
          "text": [
            "NVDA => Stock_symbol\n",
            "FCF => Dividend_yield\n",
            "NVDA stock => Company_name\n",
            "Nvidia => Stock_symbol\n",
            "CEO Jensen Huang => CEO_name\n",
            "Nvidia => Stock_symbol\n"
          ]
        }
      ]
    },
    {
      "cell_type": "markdown",
      "source": [
        "### Court Documentation Application"
      ],
      "metadata": {
        "id": "iB4SCF_gvvPi"
      }
    },
    {
      "cell_type": "code",
      "source": [
        "text = \"\"\"\n",
        "A New York judge ordered Donald Trump on Friday to pay $355 million in penalties, finding that the former president lied about his wealth for years in a sweeping civil fraud verdict that pierces his billionaire image but stops short of putting his real estate empire out of business.\n",
        "Judge Arthur Engoron’s decision after a trial in New York Attorney General Letitia James’ lawsuit punishes Trump, his company and executives, including his two eldest sons, for scheming to dupe banks, insurers and others by inflating his wealth on financial statements. It forces a shakeup at the top of his Trump Organization, putting the company under court supervision and curtailing how it does business.\n",
        "The decision is a staggering setback for the Republican presidential front-runner, the latest and costliest consequence of his recent legal troubles. The magnitude of the verdict on top of penalties in other cases could dramatically dent Trump’s financial resources and damage his identity as a savvy businessman who parlayed his fame as a real estate developer into reality TV stardom and the presidency. He has vowed to appeal and won’t have to pay immediately.\"\"\"\n",
        "\n",
        "labels = ['Case_name','Defendant_name','Plaintiff_name','Judge_name','Court_name','Legal_document','Verdict','Attorney_name','Lawsuit','Jurisdiction']\n",
        "\n",
        "entities = model.predict_entities(text, labels, threshold=0.5)\n",
        "\n",
        "for entity in entities:\n",
        "    print(entity[\"text\"], \"=>\", entity[\"label\"])"
      ],
      "metadata": {
        "colab": {
          "base_uri": "https://localhost:8080/"
        },
        "id": "ebBRygkFlJ1X",
        "outputId": "8ab2ded7-d8a1-499d-a69e-bfc54012992f"
      },
      "execution_count": 4,
      "outputs": [
        {
          "output_type": "stream",
          "name": "stdout",
          "text": [
            "New York => Jurisdiction\n",
            "civil fraud verdict => Verdict\n",
            "Judge Arthur Engoron => Attorney_name\n",
            "New York => Jurisdiction\n",
            "financial statements => Legal_document\n",
            "verdict => Verdict\n"
          ]
        }
      ]
    },
    {
      "cell_type": "markdown",
      "source": [
        "### **Biomedical Application**"
      ],
      "metadata": {
        "id": "2sjWK_gFEQ3x"
      }
    },
    {
      "cell_type": "code",
      "source": [
        "\n",
        "from gliner import GLiNER\n",
        "\n",
        "Bio_model = GLiNER.from_pretrained(\"urchade/gliner_large_bio-v0.1\")\n",
        "\n",
        "text_1= \"\"\"A 28-year-old female with a history of gestational diabetes mellitus diagnosed eight years prior to presentation and subsequent type two diabetes mellitus (T2DM), one prior episode of HTG-induced pancreatitis three years prior to presentation, and associated with an acute hepatitis, presented with a one-week history of polyuria, poor appetite, and vomiting.\n",
        "She was on metformin, glipizide, and dapagliflozin for T2DM and atorvastatin and gemfibrozil for HTG. She had been on dapagliflozin for six months at the time of presentation.\n",
        "Physical examination on presentation was significant for dry oral mucosa ; significantly , her abdominal examination was benign with no tenderness, guarding, or rigidity. Pertinent laboratory findings on admission were: serum glucose 111 mg/dl,  creatinine 0.4 mg/dL, triglycerides 508 mg/dL, total cholesterol 122 mg/dL, and venous pH 7.27.\n",
        "\"\"\"\n",
        "\n",
        "med_labels = [\"patient_age\",\"gender\", \"test\", \"doctor\", \"admission_date\",\"date\", \"symptoms\", \"drug\", \"problem\", \"bodypart\", \"disease\", \"result\", \"location\", \"procedure\"]\n",
        "\n",
        "entities = Bio_model.predict_entities(text_1, med_labels, threshold=0.5)\n",
        "\n",
        "for entity in entities:\n",
        "    print(entity[\"text\"], \"=>\", entity[\"label\"])"
      ],
      "metadata": {
        "colab": {
          "base_uri": "https://localhost:8080/"
        },
        "id": "Fx4dgRqnXKMv",
        "outputId": "18306938-3f36-49ab-d3aa-dbade9192d0c"
      },
      "execution_count": 5,
      "outputs": [
        {
          "output_type": "stream",
          "name": "stderr",
          "text": [
            "config.json not found in HuggingFace Hub.\n",
            "WARNING:huggingface_hub.hub_mixin:config.json not found in HuggingFace Hub.\n",
            "/usr/local/lib/python3.10/dist-packages/transformers/convert_slow_tokenizer.py:473: UserWarning: The sentencepiece tokenizer that you are converting to a fast tokenizer uses the byte fallback option which is not implemented in the fast tokenizers. In practice this means that the fast version of the tokenizer can produce unknown tokens whereas the sentencepiece version would have converted these unknown tokens into a sequence of byte tokens matching the original piece of text.\n",
            "  warnings.warn(\n"
          ]
        },
        {
          "output_type": "stream",
          "name": "stdout",
          "text": [
            "28-year-old => patient_age\n",
            "female => gender\n",
            "gestational diabetes mellitus => disease\n",
            "type two diabetes mellitus => disease\n",
            "T2DM => disease\n",
            "three years prior to presentation => admission_date\n",
            "acute hepatitis => disease\n",
            "polyuria => symptoms\n",
            "poor appetite => symptoms\n",
            "vomiting => symptoms\n",
            "metformin => drug\n",
            "glipizide => drug\n",
            "dapagliflozin => drug\n",
            "T2DM => disease\n",
            "atorvastatin => drug\n",
            "gemfibrozil => drug\n",
            "dapagliflozin => drug\n",
            "Physical examination => procedure\n",
            "abdominal examination => procedure\n"
          ]
        }
      ]
    },
    {
      "cell_type": "code",
      "source": [
        "import gradio as gr\n",
        "\n",
        "def highlight_entities(text):\n",
        "    # Load the GLiNER model\n",
        "    model = GLiNER.from_pretrained(\"urchade/gliner_large_bio-v0.1\")\n",
        "\n",
        "    # Define the labels and their corresponding colors\n",
        "    labels = {\n",
        "        \"patient_age\": \"blue\",\n",
        "        \"gender\": \"green\",\n",
        "        \"test\": \"orange\",\n",
        "        \"doctor\": \"red\",\n",
        "        \"admission_date\": \"purple\",\n",
        "        \"date\": \"yellow\",\n",
        "        \"symptoms\": \"cyan\",\n",
        "        \"drug\": \"magenta\",\n",
        "        \"problem\": \"grey\",\n",
        "        \"bodypart\": \"black\",\n",
        "        \"disease\": \"brown\"\n",
        "    }\n",
        "\n",
        "    # Predict entities\n",
        "    entities = model.predict_entities(text, list(labels.keys()))\n",
        "\n",
        "    # Sort entities by start position in descending order\n",
        "    entities.sort(key=lambda x: x[\"start\"], reverse=True)\n",
        "\n",
        "    # Initialize highlighted text\n",
        "    highlighted_text = text\n",
        "\n",
        "    # Add HTML markup for each entity\n",
        "    for entity in entities:\n",
        "        highlighted_text = highlighted_text[:entity[\"start\"]] + \\\n",
        "                           f\"<mark style='background-color:{labels[entity['label']]}'>{entity['text']}</mark>\" + \\\n",
        "                           f\" <span style='color:{labels[entity['label']]}'>[{entity['label']}]</span> \" + \\\n",
        "                           highlighted_text[entity[\"end\"]:]\n",
        "\n",
        "    return highlighted_text\n",
        "\n",
        "iface = gr.Interface(fn=highlight_entities, inputs=\"text\", outputs=\"html\", title=\" Biomedical NER Highlighting App\", description=\"Input text and see named entities highlighted with labels.\")\n",
        "iface.launch(share= True, debug = True)\n"
      ],
      "metadata": {
        "id": "_D9bouMbwpAf"
      },
      "execution_count": null,
      "outputs": []
    }
  ],
  "metadata": {
    "colab": {
      "provenance": [],
      "gpuType": "T4",
      "authorship_tag": "ABX9TyM5C3RunHAaq6cMZ+agPzwe",
      "include_colab_link": true
    },
    "kernelspec": {
      "display_name": "Python 3",
      "name": "python3"
    },
    "language_info": {
      "name": "python"
    },
    "accelerator": "GPU"
  },
  "nbformat": 4,
  "nbformat_minor": 0
}