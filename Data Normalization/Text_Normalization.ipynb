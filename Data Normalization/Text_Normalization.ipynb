{
  "cells": [
    {
      "cell_type": "markdown",
      "metadata": {
        "id": "view-in-github",
        "colab_type": "text"
      },
      "source": [
        "<a href=\"https://colab.research.google.com/github/Alfred9/Natural-Language-Processing/blob/main/Data%20Normalization/Text_Normalization.ipynb\" target=\"_parent\"><img src=\"https://colab.research.google.com/assets/colab-badge.svg\" alt=\"Open In Colab\"/></a>"
      ]
    },
    {
      "cell_type": "code",
      "execution_count": null,
      "metadata": {
        "colab": {
          "base_uri": "https://localhost:8080/"
        },
        "id": "0l7RHQ2F2cLu",
        "outputId": "271bd4f5-f1b6-4aa4-e9d4-3bf6e0e9db90"
      },
      "outputs": [
        {
          "name": "stdout",
          "output_type": "stream",
          "text": [
            "Requirement already satisfied: spark-nlp in /usr/local/lib/python3.10/dist-packages (5.3.2)\n",
            "Collecting pyspark\n",
            "  Downloading pyspark-3.5.1.tar.gz (317.0 MB)\n",
            "\u001b[2K     \u001b[90m━━━━━━━━━━━━━━━━━━━━━━━━━━━━━━━━━━━━━━━━\u001b[0m \u001b[32m317.0/317.0 MB\u001b[0m \u001b[31m3.1 MB/s\u001b[0m eta \u001b[36m0:00:00\u001b[0m\n",
            "\u001b[?25h  Preparing metadata (setup.py) ... \u001b[?25l\u001b[?25hdone\n",
            "Requirement already satisfied: py4j==0.10.9.7 in /usr/local/lib/python3.10/dist-packages (from pyspark) (0.10.9.7)\n",
            "Building wheels for collected packages: pyspark\n",
            "  Building wheel for pyspark (setup.py) ... \u001b[?25l\u001b[?25hdone\n",
            "  Created wheel for pyspark: filename=pyspark-3.5.1-py2.py3-none-any.whl size=317488491 sha256=85bef503b52d85ff97525901dd5a79fec5f113470e214ae852dd65b674ab4c4b\n",
            "  Stored in directory: /root/.cache/pip/wheels/80/1d/60/2c256ed38dddce2fdd93be545214a63e02fbd8d74fb0b7f3a6\n",
            "Successfully built pyspark\n",
            "Installing collected packages: pyspark\n",
            "Successfully installed pyspark-3.5.1\n"
          ]
        }
      ],
      "source": [
        "!pip install spark-nlp\n",
        "!pip install pyspark"
      ]
    },
    {
      "cell_type": "code",
      "execution_count": null,
      "metadata": {
        "colab": {
          "background_save": true
        },
        "id": "lZzDdj7T3i1c",
        "outputId": "7228490f-b633-4425-da75-d22e0e9399f7"
      },
      "outputs": [
        {
          "name": "stdout",
          "output_type": "stream",
          "text": [
            "Warning::Spark Session already created, some configs may not take.\n"
          ]
        }
      ],
      "source": [
        "import sparknlp\n",
        "\n",
        "# Start Spark Session\n",
        "spark = sparknlp.start()\n"
      ]
    },
    {
      "cell_type": "code",
      "execution_count": null,
      "metadata": {
        "id": "s-6J6KdOHCHG"
      },
      "outputs": [],
      "source": [
        "# Import the required modules and classes\n",
        "from sparknlp.base import DocumentAssembler, Pipeline, LightPipeline\n",
        "from sparknlp.annotator import (\n",
        "    Tokenizer,\n",
        "    Normalizer\n",
        ")\n",
        "import pyspark.sql.functions as F\n",
        "\n",
        "# Step 1: Transforms raw texts to `document` annotation\n",
        "document_assembler = (\n",
        "    DocumentAssembler()\n",
        "    .setInputCol(\"text\")\n",
        "    .setOutputCol(\"document\")\n",
        ")\n",
        "\n",
        "# Step 2: Gets the tokens of the text\n",
        "tokenizer = (\n",
        "    Tokenizer()\n",
        "    .setInputCols([\"document\"])\n",
        "    .setOutputCol(\"token\")\n",
        ")\n",
        "\n",
        "# Step 3:  Normalizes the tokens\n",
        "normalizer = (\n",
        "    Normalizer()\n",
        "    .setInputCols([\"token\"])\n",
        "    .setOutputCol(\"normalized\")\n",
        ")\n",
        "\n",
        "pipeline = Pipeline(stages=[document_assembler, tokenizer, normalizer])"
      ]
    },
    {
      "cell_type": "code",
      "execution_count": null,
      "metadata": {
        "id": "GdGvTRO4HCJe"
      },
      "outputs": [],
      "source": [
        "slang_text = \"\"\"Hey, what's good fam? I'm just chillin with my squad.\n",
        "                We're about to get to this dope party.\"\"\"\n",
        "\n",
        "#Create a Demo Slang CSV File\n",
        "import csv\n",
        "\n",
        "field_names = ['Slang', 'Correct_Word']\n",
        "\n",
        "slangs = [\n",
        "{'Slang': \"fam\", 'Correct_Word': 'friends'},\n",
        "{'Slang': \"chillin\", 'Correct_Word': 'relaxing'},\n",
        "{'Slang': \"squad\", 'Correct_Word': 'group of friends'},\n",
        "{'Slang': \"dope\", 'Correct_Word': 'excellent'}\n",
        "]\n",
        "\n",
        "with open('slangs.csv', 'w') as csvfile:\n",
        "    writer = csv.DictWriter(csvfile, fieldnames = field_names)\n",
        "    writer.writeheader()\n",
        "    writer.writerows(slangs)"
      ]
    },
    {
      "cell_type": "code",
      "execution_count": null,
      "metadata": {
        "colab": {
          "base_uri": "https://localhost:8080/"
        },
        "id": "AnLA42UQHCLt",
        "outputId": "d9e4df22-761e-4b0a-b0d4-1822d69cbd81"
      },
      "outputs": [
        {
          "name": "stdout",
          "output_type": "stream",
          "text": [
            "+-------------------------------------------------------------------------------------------------------------------------------+\n",
            "|result                                                                                                                         |\n",
            "+-------------------------------------------------------------------------------------------------------------------------------+\n",
            "|[Hey, whats, good, friends, Im, just, relaxing, with, my, group, of, friends, Were, about, to, get, to, this, excellent, party]|\n",
            "+-------------------------------------------------------------------------------------------------------------------------------+\n",
            "\n"
          ]
        }
      ],
      "source": [
        "normalizer = Normalizer() \\\n",
        "    .setInputCols([\"token\"]) \\\n",
        "    .setOutputCol(\"normalized\") \\\n",
        "    .setSlangDictionary(\"/content/slangs.csv\" ,\",\")\n",
        "\n",
        "\n",
        "pipeline = Pipeline().setStages([\n",
        "    document_assembler,\n",
        "    tokenizer,\n",
        "    normalizer\n",
        "])\n",
        "\n",
        "data = spark.createDataFrame([[slang_text]]) \\\n",
        "    .toDF(\"text\")\n",
        "\n",
        "model = pipeline.fit(data)\n",
        "result = model.transform(data)\n",
        "result.selectExpr(\"normalized.result\").show(truncate = False)"
      ]
    }
  ],
  "metadata": {
    "accelerator": "GPU",
    "colab": {
      "gpuType": "T4",
      "provenance": [],
      "authorship_tag": "ABX9TyNfrbKMLmITzlICwOUypLnb",
      "include_colab_link": true
    },
    "kernelspec": {
      "display_name": "Python 3",
      "name": "python3"
    },
    "language_info": {
      "name": "python"
    }
  },
  "nbformat": 4,
  "nbformat_minor": 0
}