{
  "cells": [
    {
      "cell_type": "markdown",
      "metadata": {
        "id": "view-in-github",
        "colab_type": "text"
      },
      "source": [
        "<a href=\"https://colab.research.google.com/github/Alfred9/Natural-Language-Processing-Projects/blob/main/Text-Summarization/Text_Summarization.ipynb\" target=\"_parent\"><img src=\"https://colab.research.google.com/assets/colab-badge.svg\" alt=\"Open In Colab\"/></a>"
      ]
    },
    {
      "cell_type": "markdown",
      "source": [
        "Text summarization is the process of creating shorter text without removing the semantic structure of text."
      ],
      "metadata": {
        "id": "EqABf3kw8LeA"
      }
    },
    {
      "cell_type": "code",
      "execution_count": 1,
      "metadata": {
        "colab": {
          "base_uri": "https://localhost:8080/"
        },
        "id": "Sd5tGcqk8fie",
        "outputId": "c3309b70-6f33-44be-8e94-f18e7c33fd2f"
      },
      "outputs": [
        {
          "output_type": "stream",
          "name": "stdout",
          "text": [
            "\u001b[2K     \u001b[90m━━━━━━━━━━━━━━━━━━━━━━━━━━━━━━━━━━━━━━━━\u001b[0m \u001b[32m281.3/281.3 MB\u001b[0m \u001b[31m3.8 MB/s\u001b[0m eta \u001b[36m0:00:00\u001b[0m\n",
            "\u001b[?25h  Preparing metadata (setup.py) ... \u001b[?25l\u001b[?25hdone\n",
            "\u001b[2K     \u001b[90m━━━━━━━━━━━━━━━━━━━━━━━━━━━━━━━━━━━━━━━━\u001b[0m \u001b[32m498.7/498.7 kB\u001b[0m \u001b[31m36.7 MB/s\u001b[0m eta \u001b[36m0:00:00\u001b[0m\n",
            "\u001b[2K     \u001b[90m━━━━━━━━━━━━━━━━━━━━━━━━━━━━━━━━━━━━━━━━\u001b[0m \u001b[32m199.7/199.7 kB\u001b[0m \u001b[31m20.9 MB/s\u001b[0m eta \u001b[36m0:00:00\u001b[0m\n",
            "\u001b[?25h  Building wheel for pyspark (setup.py) ... \u001b[?25l\u001b[?25hdone\n"
          ]
        }
      ],
      "source": [
        "!pip install -q pyspark==3.3.0 spark-nlp==5.0.0"
      ]
    },
    {
      "cell_type": "code",
      "execution_count": 2,
      "metadata": {
        "id": "B2deuPa5BytV"
      },
      "outputs": [],
      "source": [
        "import sparknlp\n",
        "\n",
        "from sparknlp.base import *\n",
        "from sparknlp.common import *\n",
        "from sparknlp.annotator import *\n",
        "from pyspark.ml import Pipeline\n",
        "import pandas as pd\n",
        "\n",
        "\n",
        "spark = sparknlp.start()\n"
      ]
    },
    {
      "cell_type": "code",
      "execution_count": 3,
      "metadata": {
        "colab": {
          "base_uri": "https://localhost:8080/"
        },
        "id": "8VDaa33QG9Xv",
        "outputId": "c6666d05-8d81-4206-c3e1-60c5ec977c0e"
      },
      "outputs": [
        {
          "output_type": "stream",
          "name": "stdout",
          "text": [
            "distilbart_xsum_12_6 download started this may take some time.\n",
            "Approximate size to download 699.7 MB\n",
            "[OK!]\n"
          ]
        }
      ],
      "source": [
        "documentAssembler = DocumentAssembler() \\\n",
        "    .setInputCol(\"text\") \\\n",
        "    .setOutputCol(\"document\")\n",
        "\n",
        "# Can take in document or sentence columns\n",
        "bart = BartTransformer.pretrained(name=\"distilbart_xsum_12_6\",lang='en') \\\n",
        "    .setInputCols('document')\\\n",
        "    .setOutputCol(\"Bart\")\\\n",
        "    .setMaxOutputLength(100)\n",
        "\n",
        "# Build pipeline with BART\n",
        "pipe_components = [documentAssembler, bart]\n",
        "pipeline = Pipeline().setStages( pipe_components)"
      ]
    },
    {
      "cell_type": "code",
      "execution_count": 4,
      "metadata": {
        "colab": {
          "base_uri": "https://localhost:8080/"
        },
        "id": "96V66n6eG9c-",
        "outputId": "954bf535-ee91-4dbc-f3e0-d037632c186c"
      },
      "outputs": [
        {
          "output_type": "execute_result",
          "data": {
            "text/plain": [
              "BartTRANSFORMER_41525e20b6b3"
            ]
          },
          "metadata": {},
          "execution_count": 4
        }
      ],
      "source": [
        "# Set the task for questions on T5\n",
        "bart.setTask('summarize')"
      ]
    },
    {
      "cell_type": "code",
      "execution_count": 5,
      "metadata": {
        "colab": {
          "base_uri": "https://localhost:8080/"
        },
        "id": "9QI9K9eqG9h-",
        "outputId": "a73bff2b-3277-4e8b-ffd1-a86895e01b99"
      },
      "outputs": [
        {
          "output_type": "stream",
          "name": "stdout",
          "text": [
            "+---------------------------------------------------------------------------------------------------------------------------+\n",
            "|result                                                                                                                     |\n",
            "+---------------------------------------------------------------------------------------------------------------------------+\n",
            "|[The world's biggest credit- card company is joining the growing trend of accepting cryptocurrencies as a form of payment.]|\n",
            "+---------------------------------------------------------------------------------------------------------------------------+\n",
            "\n"
          ]
        }
      ],
      "source": [
        "# https://www.reuters.com/article/instant-article/idCAKBN2AA2WF\n",
        "\n",
        "text = \"\"\"(Reuters) - Mastercard Inc said on Wednesday it was planning to offer support for some cryptocurrencies on its network this year, joining a string of big-ticket firms that have pledged similar support.\n",
        "\n",
        "The credit-card giant’s announcement comes days after Elon Musk’s Tesla Inc revealed it had purchased $1.5 billion of bitcoin and would soon accept it as a form of payment.\n",
        "\n",
        "Asset manager BlackRock Inc and payments companies Square and PayPal have also recently backed cryptocurrencies.\n",
        "\n",
        "Mastercard already offers customers cards that allow people to transact using their cryptocurrencies, although without going through its network.\n",
        "\n",
        "\"Doing this work will create a lot more possibilities for shoppers and merchants, allowing them to transact in an entirely new form of payment. This change may open merchants up to new customers who are already flocking to digital assets,\" Mastercard said. (mstr.cd/3tLaPZM)\n",
        "\n",
        "Mastercard specified that not all cryptocurrencies will be supported on its network, adding that many of the hundreds of digital assets in circulation still need to tighten their compliance measures.\n",
        "\n",
        "Many cryptocurrencies have struggled to win the trust of mainstream investors and the general public due to their speculative nature and potential for money laundering.\n",
        "\"\"\"\n",
        "data = [[text]]\n",
        "df=spark.createDataFrame(data).toDF('text')\n",
        "#Predict on text data with BART\n",
        "model = pipeline.fit(df)\n",
        "annotated_df = model.transform(df)\n",
        "annotated_df.select(['bart.result']).show(truncate=False)"
      ]
    },
    {
      "cell_type": "code",
      "execution_count": 6,
      "metadata": {
        "colab": {
          "base_uri": "https://localhost:8080/"
        },
        "id": "5HnJ3V1IHJ2P",
        "outputId": "6a10fb13-29a3-453c-e2b1-c28ebdf1fb55"
      },
      "outputs": [
        {
          "output_type": "stream",
          "name": "stdout",
          "text": [
            "Original Length 1284   Summarized Length : 121 \n"
          ]
        }
      ],
      "source": [
        "v = annotated_df.take(1)\n",
        "print(f\"Original Length {len(v[0].text)}   Summarized Length : {len(v[0].Bart[0].result)} \")"
      ]
    },
    {
      "cell_type": "code",
      "execution_count": 7,
      "metadata": {
        "colab": {
          "base_uri": "https://localhost:8080/",
          "height": 35
        },
        "id": "za4zNqCkHJ5O",
        "outputId": "91fef84d-774e-4b2f-a731-7980b0ce54ce"
      },
      "outputs": [
        {
          "output_type": "execute_result",
          "data": {
            "text/plain": [
              "\"The world's biggest credit- card company is joining the growing trend of accepting cryptocurrencies as a form of payment.\""
            ],
            "application/vnd.google.colaboratory.intrinsic+json": {
              "type": "string"
            }
          },
          "metadata": {},
          "execution_count": 7
        }
      ],
      "source": [
        "# Full summarized text\n",
        "v[0].Bart[0].result"
      ]
    }
  ],
  "metadata": {
    "colab": {
      "provenance": [],
      "authorship_tag": "ABX9TyMoZW7vDUL9hrEnF0n4nIMQ",
      "include_colab_link": true
    },
    "kernelspec": {
      "display_name": "Python 3",
      "name": "python3"
    },
    "language_info": {
      "name": "python"
    }
  },
  "nbformat": 4,
  "nbformat_minor": 0
}